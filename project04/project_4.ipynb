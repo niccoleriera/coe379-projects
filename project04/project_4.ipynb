{
 "cells": [
  {
   "cell_type": "code",
   "execution_count": 1,
   "id": "2c3cca21-30ce-4108-8103-6afd7fc92d32",
   "metadata": {},
   "outputs": [],
   "source": [
    "import pandas as pd\n",
    "from datasets import Dataset, DatasetDict, ClassLabel\n",
    "\n",
    "pd_tweets = pd.read_csv('data/tweets-refined.csv')"
   ]
  },
  {
   "cell_type": "code",
   "execution_count": 2,
   "id": "1105720e-0402-46c2-b2b2-6a0e1eafc789",
   "metadata": {},
   "outputs": [
    {
     "data": {
      "text/html": [
       "<div>\n",
       "<style scoped>\n",
       "    .dataframe tbody tr th:only-of-type {\n",
       "        vertical-align: middle;\n",
       "    }\n",
       "\n",
       "    .dataframe tbody tr th {\n",
       "        vertical-align: top;\n",
       "    }\n",
       "\n",
       "    .dataframe thead th {\n",
       "        text-align: right;\n",
       "    }\n",
       "</style>\n",
       "<table border=\"1\" class=\"dataframe\">\n",
       "  <thead>\n",
       "    <tr style=\"text-align: right;\">\n",
       "      <th></th>\n",
       "      <th>slang/informal</th>\n",
       "      <th>text</th>\n",
       "    </tr>\n",
       "  </thead>\n",
       "  <tbody>\n",
       "    <tr>\n",
       "      <th>0</th>\n",
       "      <td>no</td>\n",
       "      <td>@VirginAmerica it was amazing, and arrived an ...</td>\n",
       "    </tr>\n",
       "    <tr>\n",
       "      <th>1</th>\n",
       "      <td>no</td>\n",
       "      <td>@VirginAmerica did you know that suicide is th...</td>\n",
       "    </tr>\n",
       "    <tr>\n",
       "      <th>2</th>\n",
       "      <td>no</td>\n",
       "      <td>@VirginAmerica This is such a great deal! Alre...</td>\n",
       "    </tr>\n",
       "    <tr>\n",
       "      <th>3</th>\n",
       "      <td>yes</td>\n",
       "      <td>@VirginAmerica @virginmedia I'm flying your #f...</td>\n",
       "    </tr>\n",
       "    <tr>\n",
       "      <th>4</th>\n",
       "      <td>no</td>\n",
       "      <td>@VirginAmerica Thanks!</td>\n",
       "    </tr>\n",
       "    <tr>\n",
       "      <th>...</th>\n",
       "      <td>...</td>\n",
       "      <td>...</td>\n",
       "    </tr>\n",
       "    <tr>\n",
       "      <th>297</th>\n",
       "      <td>yes</td>\n",
       "      <td>@united Thx, just DM'd. Conf #'s MQXC64 &amp;amp; ...</td>\n",
       "    </tr>\n",
       "    <tr>\n",
       "      <th>298</th>\n",
       "      <td>yes</td>\n",
       "      <td>@united pls stop sending texts every 15mins sa...</td>\n",
       "    </tr>\n",
       "    <tr>\n",
       "      <th>299</th>\n",
       "      <td>yes</td>\n",
       "      <td>@united pls follow for DM</td>\n",
       "    </tr>\n",
       "    <tr>\n",
       "      <th>300</th>\n",
       "      <td>yes</td>\n",
       "      <td>@united.  Pls hold UA2066 for 9 cnx pax frm UA...</td>\n",
       "    </tr>\n",
       "    <tr>\n",
       "      <th>301</th>\n",
       "      <td>yes</td>\n",
       "      <td>@united employee=faceless. Don't throw them un...</td>\n",
       "    </tr>\n",
       "  </tbody>\n",
       "</table>\n",
       "<p>302 rows × 2 columns</p>\n",
       "</div>"
      ],
      "text/plain": [
       "    slang/informal                                               text\n",
       "0               no  @VirginAmerica it was amazing, and arrived an ...\n",
       "1               no  @VirginAmerica did you know that suicide is th...\n",
       "2               no  @VirginAmerica This is such a great deal! Alre...\n",
       "3              yes  @VirginAmerica @virginmedia I'm flying your #f...\n",
       "4               no                             @VirginAmerica Thanks!\n",
       "..             ...                                                ...\n",
       "297            yes  @united Thx, just DM'd. Conf #'s MQXC64 &amp; ...\n",
       "298            yes  @united pls stop sending texts every 15mins sa...\n",
       "299            yes                          @united pls follow for DM\n",
       "300            yes  @united.  Pls hold UA2066 for 9 cnx pax frm UA...\n",
       "301            yes  @united employee=faceless. Don't throw them un...\n",
       "\n",
       "[302 rows x 2 columns]"
      ]
     },
     "execution_count": 2,
     "metadata": {},
     "output_type": "execute_result"
    }
   ],
   "source": [
    "pd_tweets"
   ]
  },
  {
   "cell_type": "code",
   "execution_count": 3,
   "id": "5d3d416c-0175-42e9-a683-d15d360f8ee4",
   "metadata": {},
   "outputs": [],
   "source": [
    "from sklearn.model_selection import train_test_split\n",
    "train_df, test_df = train_test_split(pd_tweets, test_size=0.3, random_state=1)"
   ]
  },
  {
   "cell_type": "code",
   "execution_count": 4,
   "id": "6cf8d0ba-2034-4764-8d03-2ce0961f9917",
   "metadata": {},
   "outputs": [],
   "source": [
    "validation_df, test_df = train_test_split(test_df, test_size = 0.5, random_state=1)"
   ]
  },
  {
   "cell_type": "code",
   "execution_count": 5,
   "id": "ef03ea84-ac27-4a70-b14e-010fdd80d29f",
   "metadata": {},
   "outputs": [],
   "source": [
    "train_tweets = Dataset.from_pandas(train_df, split=\"train\")\n",
    "test_tweets = Dataset.from_pandas(test_df, split=\"test\")\n",
    "val_tweets = Dataset.from_pandas(validation_df, split=\"validation\")"
   ]
  },
  {
   "cell_type": "code",
   "execution_count": 6,
   "id": "a0017a75-c92d-4a6e-85a3-616ed41530ef",
   "metadata": {},
   "outputs": [
    {
     "data": {
      "application/vnd.jupyter.widget-view+json": {
       "model_id": "05740c1599d5439a973efb703d6a20b9",
       "version_major": 2,
       "version_minor": 0
      },
      "text/plain": [
       "Casting to class labels:   0%|          | 0/211 [00:00<?, ? examples/s]"
      ]
     },
     "metadata": {},
     "output_type": "display_data"
    },
    {
     "data": {
      "application/vnd.jupyter.widget-view+json": {
       "model_id": "3f5ae391f0844db2988bb901260e78a2",
       "version_major": 2,
       "version_minor": 0
      },
      "text/plain": [
       "Casting to class labels:   0%|          | 0/46 [00:00<?, ? examples/s]"
      ]
     },
     "metadata": {},
     "output_type": "display_data"
    },
    {
     "data": {
      "application/vnd.jupyter.widget-view+json": {
       "model_id": "c29f5a418e1e4cec8f5af7736eaf7323",
       "version_major": 2,
       "version_minor": 0
      },
      "text/plain": [
       "Casting to class labels:   0%|          | 0/45 [00:00<?, ? examples/s]"
      ]
     },
     "metadata": {},
     "output_type": "display_data"
    }
   ],
   "source": [
    "train_tweets = train_tweets.class_encode_column('slang/informal')\n",
    "test_tweets = test_tweets.class_encode_column('slang/informal')\n",
    "val_tweets = val_tweets.class_encode_column('slang/informal')"
   ]
  },
  {
   "cell_type": "code",
   "execution_count": 7,
   "id": "896c8707-b8a7-44d6-98c9-9c47b3346596",
   "metadata": {},
   "outputs": [],
   "source": [
    "train_tweets = train_tweets.rename_column(\"slang/informal\", \"label\")\n",
    "test_tweets = test_tweets.rename_column(\"slang/informal\", \"label\")\n",
    "val_tweets = val_tweets.rename_column(\"slang/informal\", \"label\")"
   ]
  },
  {
   "cell_type": "code",
   "execution_count": 8,
   "id": "f5d73492-5a32-47b0-a62b-41c238daf3c6",
   "metadata": {},
   "outputs": [],
   "source": [
    "from transformers import AutoTokenizer\n",
    "\n",
    "checkpoint = \"distilbert-base-uncased\"\n",
    "tokenizer = AutoTokenizer.from_pretrained(checkpoint, use_fast=True)\n",
    "\n",
    "def preprocess(sample):\n",
    "    \n",
    "    return tokenizer(sample[\"text\"], truncation=True)"
   ]
  },
  {
   "cell_type": "code",
   "execution_count": 9,
   "id": "91096eac-2025-47c7-bc4c-a67f3793914f",
   "metadata": {},
   "outputs": [
    {
     "data": {
      "text/plain": [
       "{'train': Dataset({\n",
       "     features: ['label', 'text', '__index_level_0__'],\n",
       "     num_rows: 211\n",
       " }),\n",
       " 'test': Dataset({\n",
       "     features: ['label', 'text', '__index_level_0__'],\n",
       "     num_rows: 46\n",
       " }),\n",
       " 'validation': Dataset({\n",
       "     features: ['label', 'text', '__index_level_0__'],\n",
       "     num_rows: 45\n",
       " })}"
      ]
     },
     "execution_count": 9,
     "metadata": {},
     "output_type": "execute_result"
    }
   ],
   "source": [
    "tweets_dict = {\"train\": train_tweets, \"test\": test_tweets, \"validation\": val_tweets}\n",
    "tweets_dict"
   ]
  },
  {
   "cell_type": "code",
   "execution_count": 10,
   "id": "86dc584c-a67b-430b-be04-b983348e1e9d",
   "metadata": {},
   "outputs": [
    {
     "data": {
      "text/plain": [
       "DatasetDict({\n",
       "    train: Dataset({\n",
       "        features: ['label', 'text', '__index_level_0__'],\n",
       "        num_rows: 211\n",
       "    })\n",
       "    test: Dataset({\n",
       "        features: ['label', 'text', '__index_level_0__'],\n",
       "        num_rows: 46\n",
       "    })\n",
       "    validation: Dataset({\n",
       "        features: ['label', 'text', '__index_level_0__'],\n",
       "        num_rows: 45\n",
       "    })\n",
       "})"
      ]
     },
     "execution_count": 10,
     "metadata": {},
     "output_type": "execute_result"
    }
   ],
   "source": [
    "tweets_ds_dict = DatasetDict(tweets_dict)\n",
    "tweets_ds_dict"
   ]
  },
  {
   "cell_type": "code",
   "execution_count": 11,
   "id": "ac002527-0ba6-4a4e-af86-886ed3440780",
   "metadata": {},
   "outputs": [
    {
     "data": {
      "application/vnd.jupyter.widget-view+json": {
       "model_id": "85566a39a1d44640a4deff6ec1014cb5",
       "version_major": 2,
       "version_minor": 0
      },
      "text/plain": [
       "Map:   0%|          | 0/211 [00:00<?, ? examples/s]"
      ]
     },
     "metadata": {},
     "output_type": "display_data"
    },
    {
     "data": {
      "application/vnd.jupyter.widget-view+json": {
       "model_id": "75f44e91938242b7870a16542c8765b7",
       "version_major": 2,
       "version_minor": 0
      },
      "text/plain": [
       "Map:   0%|          | 0/46 [00:00<?, ? examples/s]"
      ]
     },
     "metadata": {},
     "output_type": "display_data"
    },
    {
     "data": {
      "application/vnd.jupyter.widget-view+json": {
       "model_id": "3bcac23d14f441d8a93d9d3e7050e193",
       "version_major": 2,
       "version_minor": 0
      },
      "text/plain": [
       "Map:   0%|          | 0/45 [00:00<?, ? examples/s]"
      ]
     },
     "metadata": {},
     "output_type": "display_data"
    }
   ],
   "source": [
    "tokenized_tweets = tweets_ds_dict.map(preprocess, batched=True)"
   ]
  },
  {
   "cell_type": "code",
   "execution_count": 12,
   "id": "4444d6bc-a4d3-4f53-8724-7ff7254b0309",
   "metadata": {},
   "outputs": [
    {
     "name": "stderr",
     "output_type": "stream",
     "text": [
      "2024-05-02 22:55:18.201530: I tensorflow/core/platform/cpu_feature_guard.cc:210] This TensorFlow binary is optimized to use available CPU instructions in performance-critical operations.\n",
      "To enable the following instructions: AVX2 FMA, in other operations, rebuild TensorFlow with the appropriate compiler flags.\n",
      "2024-05-02 22:55:19.434532: W tensorflow/compiler/tf2tensorrt/utils/py_utils.cc:38] TF-TRT Warning: Could not find TensorRT\n"
     ]
    }
   ],
   "source": [
    "from transformers import DataCollatorWithPadding\n",
    "data_collator = DataCollatorWithPadding(tokenizer=tokenizer)"
   ]
  },
  {
   "cell_type": "code",
   "execution_count": 13,
   "id": "6f0a0ba8-caa4-4790-8a21-460275e2c9af",
   "metadata": {},
   "outputs": [],
   "source": [
    "import evaluate\n",
    "\n",
    "metric = evaluate.load(\"accuracy\")"
   ]
  },
  {
   "cell_type": "code",
   "execution_count": 14,
   "id": "051783ab-04c8-41d7-86f6-fc745bcfb4d0",
   "metadata": {},
   "outputs": [],
   "source": [
    "import numpy as np\n",
    "\n",
    "def compute_metrics(preds):\n",
    "    logits, labels = preds\n",
    "    predictions = np.argmax(logits, axis=-1)\n",
    "    return metric.compute(references=labels, predictions=predictions)"
   ]
  },
  {
   "cell_type": "code",
   "execution_count": 21,
   "id": "1660c9f6-d8d3-4679-ae72-ae79c47bb822",
   "metadata": {},
   "outputs": [],
   "source": [
    "from transformers import AutoModelForSequenceClassification, TrainingArguments, Trainer\n",
    "\n",
    "batch_size = 16 # can experiment with different sizes\n",
    "\n",
    "args = TrainingArguments(\n",
    "    f\"distilbert-finetuned-tweets\", # directory to save the model\n",
    "    evaluation_strategy = \"epoch\", # evaluate after each epoch\n",
    "    save_strategy = \"epoch\", # save after each epoch\n",
    "    learning_rate=2e-5, # the learning rate to use\n",
    "    per_device_train_batch_size=batch_size, # the batch size\n",
    "    per_device_eval_batch_size=batch_size,\n",
    "    logging_steps=100,\n",
    "    num_train_epochs=10, # number of epochs\n",
    "    weight_decay=0.01,\n",
    "    load_best_model_at_end=True,\n",
    "    metric_for_best_model = 'accuracy'\n",
    ")"
   ]
  },
  {
   "cell_type": "code",
   "execution_count": 22,
   "id": "c059c92e-c053-4740-ba8e-f6c88f556185",
   "metadata": {},
   "outputs": [
    {
     "name": "stderr",
     "output_type": "stream",
     "text": [
      "Some weights of DistilBertForSequenceClassification were not initialized from the model checkpoint at distilbert-base-uncased and are newly initialized: ['classifier.bias', 'classifier.weight', 'pre_classifier.bias', 'pre_classifier.weight']\n",
      "You should probably TRAIN this model on a down-stream task to be able to use it for predictions and inference.\n",
      "/usr/local/lib/python3.11/site-packages/accelerate/accelerator.py:432: FutureWarning: Passing the following arguments to `Accelerator` is deprecated and will be removed in version 1.0 of Accelerate: dict_keys(['dispatch_batches', 'split_batches', 'even_batches', 'use_seedable_sampler']). Please pass an `accelerate.DataLoaderConfiguration` instead: \n",
      "dataloader_config = DataLoaderConfiguration(dispatch_batches=None, split_batches=False, even_batches=True, use_seedable_sampler=True)\n",
      "  warnings.warn(\n"
     ]
    }
   ],
   "source": [
    "# autoload a model from the base for sequence classification,\n",
    "# we pass 2 labels since this is binary classification.\n",
    "model = AutoModelForSequenceClassification.from_pretrained(checkpoint, num_labels=2)\n",
    "\n",
    "trainer = Trainer(\n",
    "    model,  # the pre-trained model\n",
    "    args,  # the TrainingAgruments, defined above\n",
    "    train_dataset=tokenized_tweets[\"train\"], # the training dataset\n",
    "    eval_dataset=tokenized_tweets[\"validation\"], # the validation dataset\n",
    "    tokenizer=tokenizer, # our tokenizer\n",
    "    data_collator=data_collator, # the collator we defined above\n",
    "    compute_metrics=compute_metrics # our function for computing the metrics\n",
    ")"
   ]
  },
  {
   "cell_type": "code",
   "execution_count": 23,
   "id": "2164b51c-8f18-498e-a41e-60809f57509c",
   "metadata": {},
   "outputs": [
    {
     "data": {
      "text/html": [
       "\n",
       "    <div>\n",
       "      \n",
       "      <progress value='140' max='140' style='width:300px; height:20px; vertical-align: middle;'></progress>\n",
       "      [140/140 02:56, Epoch 10/10]\n",
       "    </div>\n",
       "    <table border=\"1\" class=\"dataframe\">\n",
       "  <thead>\n",
       " <tr style=\"text-align: left;\">\n",
       "      <th>Epoch</th>\n",
       "      <th>Training Loss</th>\n",
       "      <th>Validation Loss</th>\n",
       "      <th>Accuracy</th>\n",
       "    </tr>\n",
       "  </thead>\n",
       "  <tbody>\n",
       "    <tr>\n",
       "      <td>1</td>\n",
       "      <td>No log</td>\n",
       "      <td>0.651506</td>\n",
       "      <td>0.577778</td>\n",
       "    </tr>\n",
       "    <tr>\n",
       "      <td>2</td>\n",
       "      <td>No log</td>\n",
       "      <td>0.551575</td>\n",
       "      <td>0.777778</td>\n",
       "    </tr>\n",
       "    <tr>\n",
       "      <td>3</td>\n",
       "      <td>No log</td>\n",
       "      <td>0.419003</td>\n",
       "      <td>0.866667</td>\n",
       "    </tr>\n",
       "    <tr>\n",
       "      <td>4</td>\n",
       "      <td>No log</td>\n",
       "      <td>0.364709</td>\n",
       "      <td>0.866667</td>\n",
       "    </tr>\n",
       "    <tr>\n",
       "      <td>5</td>\n",
       "      <td>No log</td>\n",
       "      <td>0.354859</td>\n",
       "      <td>0.888889</td>\n",
       "    </tr>\n",
       "    <tr>\n",
       "      <td>6</td>\n",
       "      <td>No log</td>\n",
       "      <td>0.393136</td>\n",
       "      <td>0.866667</td>\n",
       "    </tr>\n",
       "    <tr>\n",
       "      <td>7</td>\n",
       "      <td>No log</td>\n",
       "      <td>0.454711</td>\n",
       "      <td>0.844444</td>\n",
       "    </tr>\n",
       "    <tr>\n",
       "      <td>8</td>\n",
       "      <td>0.339600</td>\n",
       "      <td>0.435851</td>\n",
       "      <td>0.844444</td>\n",
       "    </tr>\n",
       "    <tr>\n",
       "      <td>9</td>\n",
       "      <td>0.339600</td>\n",
       "      <td>0.465159</td>\n",
       "      <td>0.844444</td>\n",
       "    </tr>\n",
       "    <tr>\n",
       "      <td>10</td>\n",
       "      <td>0.339600</td>\n",
       "      <td>0.476565</td>\n",
       "      <td>0.844444</td>\n",
       "    </tr>\n",
       "  </tbody>\n",
       "</table><p>"
      ],
      "text/plain": [
       "<IPython.core.display.HTML object>"
      ]
     },
     "metadata": {},
     "output_type": "display_data"
    },
    {
     "name": "stderr",
     "output_type": "stream",
     "text": [
      "Checkpoint destination directory distilbert-finetuned-tweets/checkpoint-14 already exists and is non-empty. Saving will proceed but saved results may be invalid.\n",
      "Checkpoint destination directory distilbert-finetuned-tweets/checkpoint-28 already exists and is non-empty. Saving will proceed but saved results may be invalid.\n",
      "Checkpoint destination directory distilbert-finetuned-tweets/checkpoint-42 already exists and is non-empty. Saving will proceed but saved results may be invalid.\n",
      "Checkpoint destination directory distilbert-finetuned-tweets/checkpoint-56 already exists and is non-empty. Saving will proceed but saved results may be invalid.\n",
      "Checkpoint destination directory distilbert-finetuned-tweets/checkpoint-70 already exists and is non-empty. Saving will proceed but saved results may be invalid.\n",
      "Checkpoint destination directory distilbert-finetuned-tweets/checkpoint-84 already exists and is non-empty. Saving will proceed but saved results may be invalid.\n",
      "Checkpoint destination directory distilbert-finetuned-tweets/checkpoint-98 already exists and is non-empty. Saving will proceed but saved results may be invalid.\n",
      "Checkpoint destination directory distilbert-finetuned-tweets/checkpoint-112 already exists and is non-empty. Saving will proceed but saved results may be invalid.\n",
      "Checkpoint destination directory distilbert-finetuned-tweets/checkpoint-126 already exists and is non-empty. Saving will proceed but saved results may be invalid.\n",
      "Checkpoint destination directory distilbert-finetuned-tweets/checkpoint-140 already exists and is non-empty. Saving will proceed but saved results may be invalid.\n"
     ]
    },
    {
     "data": {
      "text/plain": [
       "TrainOutput(global_step=140, training_loss=0.2555610869612013, metrics={'train_runtime': 177.5054, 'train_samples_per_second': 11.887, 'train_steps_per_second': 0.789, 'total_flos': 24876704781588.0, 'train_loss': 0.2555610869612013, 'epoch': 10.0})"
      ]
     },
     "execution_count": 23,
     "metadata": {},
     "output_type": "execute_result"
    }
   ],
   "source": [
    "trainer.train()"
   ]
  },
  {
   "cell_type": "code",
   "execution_count": 24,
   "id": "b459b952-3104-4ed6-8e93-e098e1b3d1d4",
   "metadata": {},
   "outputs": [
    {
     "data": {
      "text/html": [],
      "text/plain": [
       "<IPython.core.display.HTML object>"
      ]
     },
     "metadata": {},
     "output_type": "display_data"
    }
   ],
   "source": [
    "predictions = trainer.predict(tokenized_tweets[\"test\"])"
   ]
  },
  {
   "cell_type": "code",
   "execution_count": 25,
   "id": "37ee3ab9-5b6f-4779-9f64-a129bb350191",
   "metadata": {},
   "outputs": [],
   "source": [
    "# chatGPT\n",
    "predicted_labels = predictions.predictions.argmax(axis=1)"
   ]
  },
  {
   "cell_type": "code",
   "execution_count": 26,
   "id": "bb77cad1-2e26-4838-8b1a-acb7b9678ca2",
   "metadata": {},
   "outputs": [
    {
     "data": {
      "text/plain": [
       "array([0, 0, 0, 0, 0, 0, 1, 0, 1, 0, 0, 0, 0, 0, 1, 0, 1, 1, 0, 1, 1, 0,\n",
       "       0, 1, 1, 0, 0, 1, 0, 0, 1, 0, 0, 0, 0, 0, 0, 1, 0, 0, 0, 1, 0, 1,\n",
       "       0, 0])"
      ]
     },
     "execution_count": 26,
     "metadata": {},
     "output_type": "execute_result"
    }
   ],
   "source": [
    "predicted_labels"
   ]
  },
  {
   "cell_type": "code",
   "execution_count": 27,
   "id": "9c72711f-e4d9-4500-9bd9-ca38fe5f769f",
   "metadata": {},
   "outputs": [],
   "source": [
    "actual_labels = tokenized_tweets[\"test\"]['label']"
   ]
  },
  {
   "cell_type": "code",
   "execution_count": 28,
   "id": "d98eaf11-7c41-4d10-9e71-b13d109c9434",
   "metadata": {},
   "outputs": [
    {
     "data": {
      "text/plain": [
       "list"
      ]
     },
     "execution_count": 28,
     "metadata": {},
     "output_type": "execute_result"
    }
   ],
   "source": [
    "type(actual_labels)"
   ]
  },
  {
   "cell_type": "code",
   "execution_count": 29,
   "id": "89711f6d-b8fc-44bc-b1b8-841ed0555579",
   "metadata": {},
   "outputs": [],
   "source": [
    "predicted_labels = predicted_labels.tolist()"
   ]
  },
  {
   "cell_type": "code",
   "execution_count": 30,
   "id": "3a78027e-e458-4946-8b22-e147fcc97d8f",
   "metadata": {},
   "outputs": [],
   "source": [
    "from sklearn.metrics import confusion_matrix\n",
    "confusion_mat = confusion_matrix(actual_labels, predicted_labels)"
   ]
  },
  {
   "cell_type": "code",
   "execution_count": 31,
   "id": "19786b6d-7327-4566-a512-83317184634f",
   "metadata": {},
   "outputs": [
    {
     "data": {
      "text/plain": [
       "<Axes: >"
      ]
     },
     "execution_count": 31,
     "metadata": {},
     "output_type": "execute_result"
    },
    {
     "data": {
      "image/png": "[encoded data removed]",
      "text/plain": [
       "<Figure size 640x480 with 2 Axes>"
      ]
     },
     "metadata": {},
     "output_type": "display_data"
    }
   ],
   "source": [
    "import seaborn as sns\n",
    "sns.heatmap(confusion_mat, annot=True)"
   ]
  },
  {
   "cell_type": "code",
   "execution_count": 32,
   "id": "e863831c-1273-4a48-91c6-a5c6b6db0280",
   "metadata": {},
   "outputs": [
    {
     "data": {
      "text/html": [],
      "text/plain": [
       "<IPython.core.display.HTML object>"
      ]
     },
     "metadata": {},
     "output_type": "display_data"
    },
    {
     "data": {
      "text/plain": [
       "<Axes: >"
      ]
     },
     "execution_count": 32,
     "metadata": {},
     "output_type": "execute_result"
    },
    {
     "data": {
      "image/png": "[encoded data removed]",
      "text/plain": [
       "<Figure size 640x480 with 2 Axes>"
      ]
     },
     "metadata": {},
     "output_type": "display_data"
    }
   ],
   "source": [
    "predictions = trainer.predict(tokenized_tweets[\"validation\"])\n",
    "predicted_labels = predictions.predictions.argmax(axis=1)\n",
    "predicted_labels = predicted_labels.tolist()\n",
    "actual_labels = tokenized_tweets[\"validation\"]['label']\n",
    "from sklearn.metrics import confusion_matrix\n",
    "confusion_mat = confusion_matrix(actual_labels, predicted_labels)\n",
    "import seaborn as sns\n",
    "sns.heatmap(confusion_mat, annot=True)"
   ]
  },
  {
   "cell_type": "code",
   "execution_count": null,
   "id": "262a7f86-8455-4640-afd6-8c537175ade8",
   "metadata": {},
   "outputs": [],
   "source": []
  }
 ],
 "metadata": {
  "kernelspec": {
   "display_name": "Python 3 (ipykernel)",
   "language": "python",
   "name": "python3"
  },
  "language_info": {
   "codemirror_mode": {
    "name": "ipython",
    "version": 3
   },
   "file_extension": ".py",
   "mimetype": "text/x-python",
   "name": "python",
   "nbconvert_exporter": "python",
   "pygments_lexer": "ipython3",
   "version": "3.11.1"
  }
 },
 "nbformat": 4,
 "nbformat_minor": 5
}
